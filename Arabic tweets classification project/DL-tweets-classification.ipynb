{
 "cells": [
  {
   "cell_type": "code",
   "execution_count": 13,
   "id": "2445b30d",
   "metadata": {},
   "outputs": [
    {
     "name": "stderr",
     "output_type": "stream",
     "text": [
      "[nltk_data] Downloading package punkt to C:\\Users\\Muhammad\n",
      "[nltk_data]     Swelam\\AppData\\Roaming\\nltk_data...\n",
      "[nltk_data]   Package punkt is already up-to-date!\n"
     ]
    }
   ],
   "source": [
    "import pandas as pd \n",
    "import re\n",
    "import nltk\n",
    "nltk.download('punkt')\n",
    "import numpy as np\n",
    "from tensorflow import keras\n",
    "\n",
    "import tensorflow as tf\n",
    "from keras.layers import Embedding\n",
    "from keras.preprocessing.sequence import pad_sequences\n",
    "from keras.models import Sequential\n",
    "from keras.preprocessing.text import one_hot\n",
    "from keras.layers import LSTM ,SpatialDropout1D\n",
    "from tensorflow.keras.layers import Bidirectional\n",
    "from keras.layers import Dense\n",
    "from tensorflow.keras.layers import Dropout\n",
    "from sklearn import preprocessing\n",
    "from keras.callbacks import ModelCheckpoint\n"
   ]
  },
  {
   "cell_type": "code",
   "execution_count": 2,
   "id": "cd0f2b05",
   "metadata": {},
   "outputs": [
    {
     "data": {
      "text/html": [
       "<div>\n",
       "<style scoped>\n",
       "    .dataframe tbody tr th:only-of-type {\n",
       "        vertical-align: middle;\n",
       "    }\n",
       "\n",
       "    .dataframe tbody tr th {\n",
       "        vertical-align: top;\n",
       "    }\n",
       "\n",
       "    .dataframe thead th {\n",
       "        text-align: right;\n",
       "    }\n",
       "</style>\n",
       "<table border=\"1\" class=\"dataframe\">\n",
       "  <thead>\n",
       "    <tr style=\"text-align: right;\">\n",
       "      <th></th>\n",
       "      <th>index</th>\n",
       "      <th>id</th>\n",
       "      <th>txt</th>\n",
       "      <th>dialect</th>\n",
       "    </tr>\n",
       "  </thead>\n",
       "  <tbody>\n",
       "    <tr>\n",
       "      <th>0</th>\n",
       "      <td>0</td>\n",
       "      <td>1175358310087892992</td>\n",
       "      <td>بالنهاية ينتفض يغير</td>\n",
       "      <td>IQ</td>\n",
       "    </tr>\n",
       "    <tr>\n",
       "      <th>1</th>\n",
       "      <td>1</td>\n",
       "      <td>1175416117793349632</td>\n",
       "      <td>يعني محسوب البشر حيونه ووحشيه وتطلبون الغرب يح...</td>\n",
       "      <td>IQ</td>\n",
       "    </tr>\n",
       "    <tr>\n",
       "      <th>2</th>\n",
       "      <td>2</td>\n",
       "      <td>1175450108898565888</td>\n",
       "      <td>مبين كلامه خليجي</td>\n",
       "      <td>IQ</td>\n",
       "    </tr>\n",
       "    <tr>\n",
       "      <th>3</th>\n",
       "      <td>3</td>\n",
       "      <td>1175471073770573824</td>\n",
       "      <td>يسلملي مرورك وروحك الحلوه</td>\n",
       "      <td>IQ</td>\n",
       "    </tr>\n",
       "    <tr>\n",
       "      <th>4</th>\n",
       "      <td>4</td>\n",
       "      <td>1175496913145217024</td>\n",
       "      <td>وين الغيبه اخ محمد</td>\n",
       "      <td>IQ</td>\n",
       "    </tr>\n",
       "  </tbody>\n",
       "</table>\n",
       "</div>"
      ],
      "text/plain": [
       "   index                   id  \\\n",
       "0      0  1175358310087892992   \n",
       "1      1  1175416117793349632   \n",
       "2      2  1175450108898565888   \n",
       "3      3  1175471073770573824   \n",
       "4      4  1175496913145217024   \n",
       "\n",
       "                                                 txt dialect  \n",
       "0                                بالنهاية ينتفض يغير      IQ  \n",
       "1  يعني محسوب البشر حيونه ووحشيه وتطلبون الغرب يح...      IQ  \n",
       "2                                   مبين كلامه خليجي      IQ  \n",
       "3                          يسلملي مرورك وروحك الحلوه      IQ  \n",
       "4                                 وين الغيبه اخ محمد      IQ  "
      ]
     },
     "execution_count": 2,
     "metadata": {},
     "output_type": "execute_result"
    }
   ],
   "source": [
    "import pandas as pd \n",
    "df = pd.read_csv(\"clean_data.csv\")\n",
    "df=df.dropna()\n",
    "df.reset_index(inplace=True)\n",
    "df.head()"
   ]
  },
  {
   "cell_type": "code",
   "execution_count": 3,
   "id": "0b1e1940",
   "metadata": {},
   "outputs": [],
   "source": [
    "X = df['txt']\n",
    "y = df['dialect']\n",
    "voc_size=8000\n"
   ]
  },
  {
   "cell_type": "code",
   "execution_count": 4,
   "id": "cd86d2ef",
   "metadata": {},
   "outputs": [
    {
     "data": {
      "text/plain": [
       "array([4, 4, 4, ..., 1, 1, 1])"
      ]
     },
     "execution_count": 4,
     "metadata": {},
     "output_type": "execute_result"
    }
   ],
   "source": [
    "label_encoder = preprocessing.LabelEncoder()\n",
    "y= label_encoder.fit_transform(y)\n",
    "y"
   ]
  },
  {
   "cell_type": "code",
   "execution_count": 5,
   "id": "1296ddea",
   "metadata": {},
   "outputs": [
    {
     "data": {
      "text/plain": [
       "0                                       بالنهاية ينتفض يغير\n",
       "1         يعني محسوب البشر حيونه ووحشيه وتطلبون الغرب يح...\n",
       "2                                          مبين كلامه خليجي\n",
       "3                                 يسلملي مرورك وروحك الحلوه\n",
       "4                                        وين الغيبه اخ محمد\n",
       "                                ...                        \n",
       "457959              لين صبحنا بوجهش زين سعاده مابعدها سعاده\n",
       "457960                                  بالعافيه فقلي الاكل\n",
       "457961                                              مدح يبي\n",
       "457962    ايييي احبها واحب تحتها طاوله للكرك ويفضل بلك ل...\n",
       "457963                      جيبي مطرقه شوفي اهدم واهدم ابوه\n",
       "Name: txt, Length: 457964, dtype: object"
      ]
     },
     "execution_count": 5,
     "metadata": {},
     "output_type": "execute_result"
    }
   ],
   "source": [
    "X"
   ]
  },
  {
   "cell_type": "code",
   "execution_count": 6,
   "id": "a7db19ef",
   "metadata": {},
   "outputs": [],
   "source": [
    "corpus=[]\n",
    "for i in X:\n",
    "    corpus.append(i)\n",
    "    \n",
    "\n",
    "onehot_repr=[one_hot(words,voc_size)for words in corpus] \n"
   ]
  },
  {
   "cell_type": "code",
   "execution_count": 7,
   "id": "f8e8348f",
   "metadata": {},
   "outputs": [
    {
     "name": "stdout",
     "output_type": "stream",
     "text": [
      "[[   0    0    0 ... 3846   54 6998]\n",
      " [   0    0    0 ... 2674 7535 6771]\n",
      " [   0    0    0 ... 5472 1563 7267]\n",
      " ...\n",
      " [   0    0    0 ...    0 3189 1403]\n",
      " [   0    0    0 ... 2242 2441 2000]\n",
      " [   0    0    0 ... 7328 7014 1068]]\n"
     ]
    }
   ],
   "source": [
    "sent_length=30\n",
    "embedded_docs=pad_sequences(onehot_repr,padding='pre',maxlen=sent_length)\n",
    "print(embedded_docs)"
   ]
  },
  {
   "cell_type": "code",
   "execution_count": 8,
   "id": "1dec2e2e",
   "metadata": {},
   "outputs": [
    {
     "name": "stdout",
     "output_type": "stream",
     "text": [
      "Model: \"sequential\"\n",
      "_________________________________________________________________\n",
      " Layer (type)                Output Shape              Param #   \n",
      "=================================================================\n",
      " embedding (Embedding)       (None, 30, 50)            400000    \n",
      "                                                                 \n",
      " spatial_dropout1d (SpatialD  (None, 30, 50)           0         \n",
      " ropout1D)                                                       \n",
      "                                                                 \n",
      " bidirectional (Bidirectiona  (None, 200)              120800    \n",
      " l)                                                              \n",
      "                                                                 \n",
      " dense (Dense)               (None, 18)                3618      \n",
      "                                                                 \n",
      "=================================================================\n",
      "Total params: 524,418\n",
      "Trainable params: 524,418\n",
      "Non-trainable params: 0\n",
      "_________________________________________________________________\n",
      "None\n"
     ]
    }
   ],
   "source": [
    "embedding_vector_features=50\n",
    "model = Sequential()\n",
    "model.add(Embedding(voc_size, embedding_vector_features, input_length=sent_length))\n",
    "model.add(SpatialDropout1D(0.2))\n",
    "model.add(Bidirectional(LSTM(100, dropout=0.2, recurrent_dropout=0.2)))\n",
    "model.add(Dense(18, activation='softmax'))\n",
    "model.compile(loss='sparse_categorical_crossentropy', optimizer='adam', metrics=['accuracy'])\n",
    "print(model.summary())\n"
   ]
  },
  {
   "cell_type": "code",
   "execution_count": 14,
   "id": "8362cea6",
   "metadata": {},
   "outputs": [],
   "source": [
    "# Creat checkpoint to save model at the end of each epoch:\n",
    "checkpoint_cb = keras.callbacks.ModelCheckpoint(\"my_keras_model.h5\", save_best_only=True)\n",
    "\n",
    "# Creat EarlyStopping checkpoint:\n",
    "early_stopping_cb = keras.callbacks.EarlyStopping(patience=5, restore_best_weights=True)"
   ]
  },
  {
   "cell_type": "code",
   "execution_count": 15,
   "id": "3406f046",
   "metadata": {},
   "outputs": [],
   "source": [
    "X_final=np.array(embedded_docs)\n",
    "y_final=np.array(y)\n",
    "from sklearn.model_selection import train_test_split\n",
    "X_train, X_test, y_train, y_test = train_test_split(X_final, y_final, test_size=0.2, random_state=42)\n"
   ]
  },
  {
   "cell_type": "code",
   "execution_count": 16,
   "id": "bff9f793",
   "metadata": {},
   "outputs": [
    {
     "name": "stdout",
     "output_type": "stream",
     "text": [
      "Epoch 1/20\n",
      "5725/5725 [==============================] - 323s 56ms/step - loss: 2.2310 - accuracy: 0.2985 - val_loss: 2.0648 - val_accuracy: 0.3529\n",
      "Epoch 2/20\n",
      "5725/5725 [==============================] - 326s 57ms/step - loss: 2.0225 - accuracy: 0.3708 - val_loss: 1.9933 - val_accuracy: 0.3797\n",
      "Epoch 3/20\n",
      "5725/5725 [==============================] - 344s 60ms/step - loss: 1.9447 - accuracy: 0.3964 - val_loss: 1.9673 - val_accuracy: 0.3888\n",
      "Epoch 4/20\n",
      "5725/5725 [==============================] - 336s 59ms/step - loss: 1.8953 - accuracy: 0.4121 - val_loss: 1.9524 - val_accuracy: 0.3945\n",
      "Epoch 5/20\n",
      "5725/5725 [==============================] - 335s 59ms/step - loss: 1.8618 - accuracy: 0.4227 - val_loss: 1.9552 - val_accuracy: 0.3961\n",
      "Epoch 6/20\n",
      "5725/5725 [==============================] - 339s 59ms/step - loss: 1.8340 - accuracy: 0.4317 - val_loss: 1.9462 - val_accuracy: 0.3984\n",
      "Epoch 7/20\n",
      "5725/5725 [==============================] - 334s 58ms/step - loss: 1.8116 - accuracy: 0.4378 - val_loss: 1.9547 - val_accuracy: 0.3977\n",
      "Epoch 8/20\n",
      "5725/5725 [==============================] - 343s 60ms/step - loss: 1.7922 - accuracy: 0.4438 - val_loss: 1.9502 - val_accuracy: 0.3997\n",
      "Epoch 9/20\n",
      "5725/5725 [==============================] - 379s 66ms/step - loss: 1.7765 - accuracy: 0.4489 - val_loss: 1.9631 - val_accuracy: 0.3983\n",
      "Epoch 10/20\n",
      "5725/5725 [==============================] - 377s 66ms/step - loss: 1.7612 - accuracy: 0.4522 - val_loss: 1.9630 - val_accuracy: 0.3994\n",
      "Epoch 11/20\n",
      "5725/5725 [==============================] - 358s 63ms/step - loss: 1.7480 - accuracy: 0.4569 - val_loss: 1.9664 - val_accuracy: 0.3985\n"
     ]
    },
    {
     "data": {
      "text/plain": [
       "<keras.callbacks.History at 0x1f7d53d1760>"
      ]
     },
     "execution_count": 16,
     "metadata": {},
     "output_type": "execute_result"
    }
   ],
   "source": [
    "model.fit(X_train,y_train,validation_data=(X_test,y_test),epochs=20,batch_size=64,callbacks=[checkpoint_cb, early_stopping_cb])\n"
   ]
  },
  {
   "cell_type": "code",
   "execution_count": 17,
   "id": "20d9f65e",
   "metadata": {},
   "outputs": [
    {
     "data": {
      "text/plain": [
       "0.3984474796108873"
      ]
     },
     "execution_count": 17,
     "metadata": {},
     "output_type": "execute_result"
    }
   ],
   "source": [
    "y_pred=model.predict(X_test)\n",
    "y_pred=np.argmax(y_pred,axis=1)\n",
    "\n",
    "y_pred=label_encoder.inverse_transform(y_pred)\n",
    "y_test=label_encoder.inverse_transform(y_test)\n",
    "\n",
    "\n",
    "from sklearn.metrics import confusion_matrix ,classification_report\n",
    "from sklearn.metrics import accuracy_score\n",
    "\n",
    "accuracy_score(y_test,y_pred)"
   ]
  },
  {
   "cell_type": "code",
   "execution_count": 18,
   "id": "dbc17b87",
   "metadata": {},
   "outputs": [
    {
     "name": "stdout",
     "output_type": "stream",
     "text": [
      "              precision    recall  f1-score   support\n",
      "\n",
      "          AE       0.34      0.23      0.27      5379\n",
      "          BH       0.26      0.17      0.21      5216\n",
      "          DZ       0.49      0.37      0.42      3337\n",
      "          EG       0.55      0.76      0.64     11462\n",
      "          IQ       0.45      0.39      0.42      3048\n",
      "          JO       0.34      0.17      0.23      5731\n",
      "          KW       0.33      0.46      0.39      8337\n",
      "          LB       0.48      0.48      0.48      5378\n",
      "          LY       0.39      0.53      0.45      7356\n",
      "          MA       0.52      0.47      0.49      2297\n",
      "          OM       0.25      0.15      0.19      3823\n",
      "          PL       0.34      0.46      0.39      8622\n",
      "          QA       0.36      0.35      0.36      6204\n",
      "          SA       0.26      0.28      0.27      5394\n",
      "          SD       0.53      0.41      0.46      2929\n",
      "          SY       0.33      0.25      0.28      3201\n",
      "          TN       0.49      0.27      0.35      1858\n",
      "          YE       0.35      0.04      0.07      2021\n",
      "\n",
      "    accuracy                           0.40     91593\n",
      "   macro avg       0.39      0.35      0.35     91593\n",
      "weighted avg       0.39      0.40      0.38     91593\n",
      "\n"
     ]
    }
   ],
   "source": [
    "print(classification_report(y_test, y_pred))"
   ]
  }
 ],
 "metadata": {
  "kernelspec": {
   "display_name": "Python 3 (ipykernel)",
   "language": "python",
   "name": "python3"
  },
  "language_info": {
   "codemirror_mode": {
    "name": "ipython",
    "version": 3
   },
   "file_extension": ".py",
   "mimetype": "text/x-python",
   "name": "python",
   "nbconvert_exporter": "python",
   "pygments_lexer": "ipython3",
   "version": "3.8.12"
  }
 },
 "nbformat": 4,
 "nbformat_minor": 5
}
