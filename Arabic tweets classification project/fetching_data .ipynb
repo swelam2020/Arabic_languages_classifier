{
 "cells": [
  {
   "cell_type": "code",
   "execution_count": 1,
   "id": "2e03ee8e",
   "metadata": {},
   "outputs": [],
   "source": [
    "import requests\n",
    "import pandas as pd"
   ]
  },
  {
   "cell_type": "code",
   "execution_count": 2,
   "id": "07e416ef",
   "metadata": {},
   "outputs": [
    {
     "data": {
      "text/plain": [
       "{'1055620304465215616': '@MahmoudWaked7 @maganenoo في طريق مطروح مركز بهيج  والمركز الي الي جمبه اسمه ايه😂😂',\n",
       " '1057418989293485952': '@mycousinvinnyys @hanyamikhail1 متهيالي دي شكولاته الهالوين  فين المحل ده'}"
      ]
     },
     "execution_count": 2,
     "metadata": {},
     "output_type": "execute_result"
    }
   ],
   "source": [
    "url = 'https://recruitment.aimtechnologies.co/ai-tasks'\n",
    "myobj = [\n",
    "\"1055620304465215616\", \"1057418989293485952\"\n",
    "]\n",
    "\n",
    "\n",
    "x = requests.post(url, json = myobj)\n",
    "x.json()"
   ]
  },
  {
   "cell_type": "code",
   "execution_count": 3,
   "id": "31ff42d9",
   "metadata": {},
   "outputs": [
    {
     "data": {
      "text/html": [
       "<div>\n",
       "<style scoped>\n",
       "    .dataframe tbody tr th:only-of-type {\n",
       "        vertical-align: middle;\n",
       "    }\n",
       "\n",
       "    .dataframe tbody tr th {\n",
       "        vertical-align: top;\n",
       "    }\n",
       "\n",
       "    .dataframe thead th {\n",
       "        text-align: right;\n",
       "    }\n",
       "</style>\n",
       "<table border=\"1\" class=\"dataframe\">\n",
       "  <thead>\n",
       "    <tr style=\"text-align: right;\">\n",
       "      <th></th>\n",
       "      <th>id</th>\n",
       "      <th>dialect</th>\n",
       "    </tr>\n",
       "  </thead>\n",
       "  <tbody>\n",
       "    <tr>\n",
       "      <th>0</th>\n",
       "      <td>1175358310087892992</td>\n",
       "      <td>IQ</td>\n",
       "    </tr>\n",
       "    <tr>\n",
       "      <th>1</th>\n",
       "      <td>1175416117793349632</td>\n",
       "      <td>IQ</td>\n",
       "    </tr>\n",
       "    <tr>\n",
       "      <th>2</th>\n",
       "      <td>1175450108898565888</td>\n",
       "      <td>IQ</td>\n",
       "    </tr>\n",
       "    <tr>\n",
       "      <th>3</th>\n",
       "      <td>1175471073770573824</td>\n",
       "      <td>IQ</td>\n",
       "    </tr>\n",
       "    <tr>\n",
       "      <th>4</th>\n",
       "      <td>1175496913145217024</td>\n",
       "      <td>IQ</td>\n",
       "    </tr>\n",
       "  </tbody>\n",
       "</table>\n",
       "</div>"
      ],
      "text/plain": [
       "                    id dialect\n",
       "0  1175358310087892992      IQ\n",
       "1  1175416117793349632      IQ\n",
       "2  1175450108898565888      IQ\n",
       "3  1175471073770573824      IQ\n",
       "4  1175496913145217024      IQ"
      ]
     },
     "execution_count": 3,
     "metadata": {},
     "output_type": "execute_result"
    }
   ],
   "source": [
    "df = pd.read_csv('dialect_dataset.csv')\n",
    "df.head()"
   ]
  },
  {
   "cell_type": "code",
   "execution_count": 4,
   "id": "58ec05ce",
   "metadata": {},
   "outputs": [
    {
     "data": {
      "text/plain": [
       "458197"
      ]
     },
     "execution_count": 4,
     "metadata": {},
     "output_type": "execute_result"
    }
   ],
   "source": [
    "df_t = list(df.id.astype(str))\n",
    "len(df_t)"
   ]
  },
  {
   "cell_type": "code",
   "execution_count": 5,
   "id": "2958d75f",
   "metadata": {},
   "outputs": [],
   "source": [
    "q=0\n",
    "s1 = pd.DataFrame()\n",
    "for i in range(1,459):\n",
    "    j = i *1000\n",
    "    x = requests.post(url, json = df_t[q:j])\n",
    "    s2 = pd.Series(x.json())\n",
    "    s2 = s2.reset_index()\n",
    "    s1 = s1.append(s2)\n",
    "    q=j\n",
    "    "
   ]
  },
  {
   "cell_type": "code",
   "execution_count": 6,
   "id": "b83c8e8d",
   "metadata": {},
   "outputs": [],
   "source": [
    "s1.columns = [\"id\", \"txt\"]"
   ]
  },
  {
   "cell_type": "code",
   "execution_count": 7,
   "id": "c1294c52",
   "metadata": {},
   "outputs": [
    {
     "data": {
      "text/html": [
       "<div>\n",
       "<style scoped>\n",
       "    .dataframe tbody tr th:only-of-type {\n",
       "        vertical-align: middle;\n",
       "    }\n",
       "\n",
       "    .dataframe tbody tr th {\n",
       "        vertical-align: top;\n",
       "    }\n",
       "\n",
       "    .dataframe thead th {\n",
       "        text-align: right;\n",
       "    }\n",
       "</style>\n",
       "<table border=\"1\" class=\"dataframe\">\n",
       "  <thead>\n",
       "    <tr style=\"text-align: right;\">\n",
       "      <th></th>\n",
       "      <th>id</th>\n",
       "      <th>txt</th>\n",
       "    </tr>\n",
       "  </thead>\n",
       "  <tbody>\n",
       "    <tr>\n",
       "      <th>0</th>\n",
       "      <td>1175358310087892992</td>\n",
       "      <td>@Nw8ieJUwaCAAreT لكن بالنهاية .. ينتفض .. يغير .</td>\n",
       "    </tr>\n",
       "    <tr>\n",
       "      <th>1</th>\n",
       "      <td>1175416117793349632</td>\n",
       "      <td>@7zNqXP0yrODdRjK يعني هذا محسوب على البشر .. ح...</td>\n",
       "    </tr>\n",
       "    <tr>\n",
       "      <th>2</th>\n",
       "      <td>1175450108898565888</td>\n",
       "      <td>@KanaanRema مبين من كلامه خليجي</td>\n",
       "    </tr>\n",
       "    <tr>\n",
       "      <th>3</th>\n",
       "      <td>1175471073770573824</td>\n",
       "      <td>@HAIDER76128900 يسلملي مرورك وروحك الحلوه💐</td>\n",
       "    </tr>\n",
       "    <tr>\n",
       "      <th>4</th>\n",
       "      <td>1175496913145217024</td>\n",
       "      <td>@hmo2406 وين هل الغيبه  اخ محمد 🌸🌺</td>\n",
       "    </tr>\n",
       "    <tr>\n",
       "      <th>...</th>\n",
       "      <td>...</td>\n",
       "      <td>...</td>\n",
       "    </tr>\n",
       "    <tr>\n",
       "      <th>995</th>\n",
       "      <td>1088352896842956800</td>\n",
       "      <td>@Zzainabali لين صبحنا بوجهش زين له سعاده مابعد...</td>\n",
       "    </tr>\n",
       "    <tr>\n",
       "      <th>996</th>\n",
       "      <td>1088437262499659776</td>\n",
       "      <td>@mimi1562_ بالعافيه فقلي من الاكل 😋😋😋😋</td>\n",
       "    </tr>\n",
       "    <tr>\n",
       "      <th>997</th>\n",
       "      <td>1088665169616687232</td>\n",
       "      <td>@mimi1562_ من مدح نفسه يبي له 🏃‍♂️🏃‍♂️</td>\n",
       "    </tr>\n",
       "    <tr>\n",
       "      <th>998</th>\n",
       "      <td>1090527423844806784</td>\n",
       "      <td>@P_ameerah ايييي احبها واحب تحتها طاوله للكرك ...</td>\n",
       "    </tr>\n",
       "    <tr>\n",
       "      <th>999</th>\n",
       "      <td>1090947679977439232</td>\n",
       "      <td>@mariam82ali جيبي مطرقه شوفي اهدم واهدم ابوه 😅😅</td>\n",
       "    </tr>\n",
       "  </tbody>\n",
       "</table>\n",
       "<p>458000 rows × 2 columns</p>\n",
       "</div>"
      ],
      "text/plain": [
       "                      id                                                txt\n",
       "0    1175358310087892992   @Nw8ieJUwaCAAreT لكن بالنهاية .. ينتفض .. يغير .\n",
       "1    1175416117793349632  @7zNqXP0yrODdRjK يعني هذا محسوب على البشر .. ح...\n",
       "2    1175450108898565888                    @KanaanRema مبين من كلامه خليجي\n",
       "3    1175471073770573824         @HAIDER76128900 يسلملي مرورك وروحك الحلوه💐\n",
       "4    1175496913145217024                 @hmo2406 وين هل الغيبه  اخ محمد 🌸🌺\n",
       "..                   ...                                                ...\n",
       "995  1088352896842956800  @Zzainabali لين صبحنا بوجهش زين له سعاده مابعد...\n",
       "996  1088437262499659776             @mimi1562_ بالعافيه فقلي من الاكل 😋😋😋😋\n",
       "997  1088665169616687232             @mimi1562_ من مدح نفسه يبي له 🏃‍♂️🏃‍♂️\n",
       "998  1090527423844806784  @P_ameerah ايييي احبها واحب تحتها طاوله للكرك ...\n",
       "999  1090947679977439232    @mariam82ali جيبي مطرقه شوفي اهدم واهدم ابوه 😅😅\n",
       "\n",
       "[458000 rows x 2 columns]"
      ]
     },
     "execution_count": 7,
     "metadata": {},
     "output_type": "execute_result"
    }
   ],
   "source": [
    "s1"
   ]
  },
  {
   "cell_type": "code",
   "execution_count": 8,
   "id": "f03d1b3c",
   "metadata": {},
   "outputs": [
    {
     "data": {
      "text/html": [
       "<div>\n",
       "<style scoped>\n",
       "    .dataframe tbody tr th:only-of-type {\n",
       "        vertical-align: middle;\n",
       "    }\n",
       "\n",
       "    .dataframe tbody tr th {\n",
       "        vertical-align: top;\n",
       "    }\n",
       "\n",
       "    .dataframe thead th {\n",
       "        text-align: right;\n",
       "    }\n",
       "</style>\n",
       "<table border=\"1\" class=\"dataframe\">\n",
       "  <thead>\n",
       "    <tr style=\"text-align: right;\">\n",
       "      <th></th>\n",
       "      <th>id</th>\n",
       "      <th>dialect</th>\n",
       "    </tr>\n",
       "  </thead>\n",
       "  <tbody>\n",
       "    <tr>\n",
       "      <th>0</th>\n",
       "      <td>1175358310087892992</td>\n",
       "      <td>IQ</td>\n",
       "    </tr>\n",
       "    <tr>\n",
       "      <th>1</th>\n",
       "      <td>1175416117793349632</td>\n",
       "      <td>IQ</td>\n",
       "    </tr>\n",
       "    <tr>\n",
       "      <th>2</th>\n",
       "      <td>1175450108898565888</td>\n",
       "      <td>IQ</td>\n",
       "    </tr>\n",
       "    <tr>\n",
       "      <th>3</th>\n",
       "      <td>1175471073770573824</td>\n",
       "      <td>IQ</td>\n",
       "    </tr>\n",
       "    <tr>\n",
       "      <th>4</th>\n",
       "      <td>1175496913145217024</td>\n",
       "      <td>IQ</td>\n",
       "    </tr>\n",
       "    <tr>\n",
       "      <th>...</th>\n",
       "      <td>...</td>\n",
       "      <td>...</td>\n",
       "    </tr>\n",
       "    <tr>\n",
       "      <th>458192</th>\n",
       "      <td>1019484980282580992</td>\n",
       "      <td>BH</td>\n",
       "    </tr>\n",
       "    <tr>\n",
       "      <th>458193</th>\n",
       "      <td>1021083283709407232</td>\n",
       "      <td>BH</td>\n",
       "    </tr>\n",
       "    <tr>\n",
       "      <th>458194</th>\n",
       "      <td>1017477537889431552</td>\n",
       "      <td>BH</td>\n",
       "    </tr>\n",
       "    <tr>\n",
       "      <th>458195</th>\n",
       "      <td>1022430374696239232</td>\n",
       "      <td>BH</td>\n",
       "    </tr>\n",
       "    <tr>\n",
       "      <th>458196</th>\n",
       "      <td>1022409931029458944</td>\n",
       "      <td>BH</td>\n",
       "    </tr>\n",
       "  </tbody>\n",
       "</table>\n",
       "<p>458197 rows × 2 columns</p>\n",
       "</div>"
      ],
      "text/plain": [
       "                         id dialect\n",
       "0       1175358310087892992      IQ\n",
       "1       1175416117793349632      IQ\n",
       "2       1175450108898565888      IQ\n",
       "3       1175471073770573824      IQ\n",
       "4       1175496913145217024      IQ\n",
       "...                     ...     ...\n",
       "458192  1019484980282580992      BH\n",
       "458193  1021083283709407232      BH\n",
       "458194  1017477537889431552      BH\n",
       "458195  1022430374696239232      BH\n",
       "458196  1022409931029458944      BH\n",
       "\n",
       "[458197 rows x 2 columns]"
      ]
     },
     "execution_count": 8,
     "metadata": {},
     "output_type": "execute_result"
    }
   ],
   "source": [
    "df2 = df.copy()\n",
    "df2['id'] = df['id'].astype(str)\n",
    "df2"
   ]
  },
  {
   "cell_type": "code",
   "execution_count": 9,
   "id": "8bf14936",
   "metadata": {},
   "outputs": [
    {
     "name": "stdout",
     "output_type": "stream",
     "text": [
      "<class 'pandas.core.frame.DataFrame'>\n",
      "RangeIndex: 458197 entries, 0 to 458196\n",
      "Data columns (total 2 columns):\n",
      " #   Column   Non-Null Count   Dtype \n",
      "---  ------   --------------   ----- \n",
      " 0   id       458197 non-null  object\n",
      " 1   dialect  458197 non-null  object\n",
      "dtypes: object(2)\n",
      "memory usage: 7.0+ MB\n"
     ]
    }
   ],
   "source": [
    "df2.info()"
   ]
  },
  {
   "cell_type": "code",
   "execution_count": 10,
   "id": "91b93749",
   "metadata": {},
   "outputs": [
    {
     "name": "stdout",
     "output_type": "stream",
     "text": [
      "<class 'pandas.core.frame.DataFrame'>\n",
      "Int64Index: 458000 entries, 0 to 999\n",
      "Data columns (total 2 columns):\n",
      " #   Column  Non-Null Count   Dtype \n",
      "---  ------  --------------   ----- \n",
      " 0   id      458000 non-null  object\n",
      " 1   txt     458000 non-null  object\n",
      "dtypes: object(2)\n",
      "memory usage: 10.5+ MB\n"
     ]
    }
   ],
   "source": [
    "s1.info()"
   ]
  },
  {
   "cell_type": "code",
   "execution_count": 11,
   "id": "489dc556",
   "metadata": {},
   "outputs": [
    {
     "data": {
      "text/html": [
       "<div>\n",
       "<style scoped>\n",
       "    .dataframe tbody tr th:only-of-type {\n",
       "        vertical-align: middle;\n",
       "    }\n",
       "\n",
       "    .dataframe tbody tr th {\n",
       "        vertical-align: top;\n",
       "    }\n",
       "\n",
       "    .dataframe thead th {\n",
       "        text-align: right;\n",
       "    }\n",
       "</style>\n",
       "<table border=\"1\" class=\"dataframe\">\n",
       "  <thead>\n",
       "    <tr style=\"text-align: right;\">\n",
       "      <th></th>\n",
       "      <th>id</th>\n",
       "      <th>txt</th>\n",
       "      <th>dialect</th>\n",
       "    </tr>\n",
       "  </thead>\n",
       "  <tbody>\n",
       "    <tr>\n",
       "      <th>0</th>\n",
       "      <td>1175358310087892992</td>\n",
       "      <td>@Nw8ieJUwaCAAreT لكن بالنهاية .. ينتفض .. يغير .</td>\n",
       "      <td>IQ</td>\n",
       "    </tr>\n",
       "    <tr>\n",
       "      <th>1</th>\n",
       "      <td>1175416117793349632</td>\n",
       "      <td>@7zNqXP0yrODdRjK يعني هذا محسوب على البشر .. ح...</td>\n",
       "      <td>IQ</td>\n",
       "    </tr>\n",
       "    <tr>\n",
       "      <th>2</th>\n",
       "      <td>1175450108898565888</td>\n",
       "      <td>@KanaanRema مبين من كلامه خليجي</td>\n",
       "      <td>IQ</td>\n",
       "    </tr>\n",
       "    <tr>\n",
       "      <th>3</th>\n",
       "      <td>1175471073770573824</td>\n",
       "      <td>@HAIDER76128900 يسلملي مرورك وروحك الحلوه💐</td>\n",
       "      <td>IQ</td>\n",
       "    </tr>\n",
       "    <tr>\n",
       "      <th>4</th>\n",
       "      <td>1175496913145217024</td>\n",
       "      <td>@hmo2406 وين هل الغيبه  اخ محمد 🌸🌺</td>\n",
       "      <td>IQ</td>\n",
       "    </tr>\n",
       "  </tbody>\n",
       "</table>\n",
       "</div>"
      ],
      "text/plain": [
       "                    id                                                txt  \\\n",
       "0  1175358310087892992   @Nw8ieJUwaCAAreT لكن بالنهاية .. ينتفض .. يغير .   \n",
       "1  1175416117793349632  @7zNqXP0yrODdRjK يعني هذا محسوب على البشر .. ح...   \n",
       "2  1175450108898565888                    @KanaanRema مبين من كلامه خليجي   \n",
       "3  1175471073770573824         @HAIDER76128900 يسلملي مرورك وروحك الحلوه💐   \n",
       "4  1175496913145217024                 @hmo2406 وين هل الغيبه  اخ محمد 🌸🌺   \n",
       "\n",
       "  dialect  \n",
       "0      IQ  \n",
       "1      IQ  \n",
       "2      IQ  \n",
       "3      IQ  \n",
       "4      IQ  "
      ]
     },
     "execution_count": 11,
     "metadata": {},
     "output_type": "execute_result"
    }
   ],
   "source": [
    "final = s1.merge(df2, on = 'id')\n",
    "final.head()"
   ]
  },
  {
   "cell_type": "code",
   "execution_count": 12,
   "id": "b09d2f51",
   "metadata": {},
   "outputs": [
    {
     "name": "stdout",
     "output_type": "stream",
     "text": [
      "<class 'pandas.core.frame.DataFrame'>\n",
      "Int64Index: 458000 entries, 0 to 457999\n",
      "Data columns (total 3 columns):\n",
      " #   Column   Non-Null Count   Dtype \n",
      "---  ------   --------------   ----- \n",
      " 0   id       458000 non-null  object\n",
      " 1   txt      458000 non-null  object\n",
      " 2   dialect  458000 non-null  object\n",
      "dtypes: object(3)\n",
      "memory usage: 14.0+ MB\n"
     ]
    }
   ],
   "source": [
    "final.info()"
   ]
  },
  {
   "cell_type": "code",
   "execution_count": 16,
   "id": "7ded3293",
   "metadata": {},
   "outputs": [
    {
     "data": {
      "text/html": [
       "<div>\n",
       "<style scoped>\n",
       "    .dataframe tbody tr th:only-of-type {\n",
       "        vertical-align: middle;\n",
       "    }\n",
       "\n",
       "    .dataframe tbody tr th {\n",
       "        vertical-align: top;\n",
       "    }\n",
       "\n",
       "    .dataframe thead th {\n",
       "        text-align: right;\n",
       "    }\n",
       "</style>\n",
       "<table border=\"1\" class=\"dataframe\">\n",
       "  <thead>\n",
       "    <tr style=\"text-align: right;\">\n",
       "      <th></th>\n",
       "      <th>id</th>\n",
       "      <th>txt</th>\n",
       "      <th>dialect</th>\n",
       "    </tr>\n",
       "  </thead>\n",
       "  <tbody>\n",
       "    <tr>\n",
       "      <th>0</th>\n",
       "      <td>1175358310087892992</td>\n",
       "      <td>@Nw8ieJUwaCAAreT لكن بالنهاية .. ينتفض .. يغير .</td>\n",
       "      <td>IQ</td>\n",
       "    </tr>\n",
       "    <tr>\n",
       "      <th>1</th>\n",
       "      <td>1175416117793349632</td>\n",
       "      <td>@7zNqXP0yrODdRjK يعني هذا محسوب على البشر .. ح...</td>\n",
       "      <td>IQ</td>\n",
       "    </tr>\n",
       "    <tr>\n",
       "      <th>2</th>\n",
       "      <td>1175450108898565888</td>\n",
       "      <td>@KanaanRema مبين من كلامه خليجي</td>\n",
       "      <td>IQ</td>\n",
       "    </tr>\n",
       "    <tr>\n",
       "      <th>3</th>\n",
       "      <td>1175471073770573824</td>\n",
       "      <td>@HAIDER76128900 يسلملي مرورك وروحك الحلوه💐</td>\n",
       "      <td>IQ</td>\n",
       "    </tr>\n",
       "    <tr>\n",
       "      <th>4</th>\n",
       "      <td>1175496913145217024</td>\n",
       "      <td>@hmo2406 وين هل الغيبه  اخ محمد 🌸🌺</td>\n",
       "      <td>IQ</td>\n",
       "    </tr>\n",
       "  </tbody>\n",
       "</table>\n",
       "</div>"
      ],
      "text/plain": [
       "                    id                                                txt  \\\n",
       "0  1175358310087892992   @Nw8ieJUwaCAAreT لكن بالنهاية .. ينتفض .. يغير .   \n",
       "1  1175416117793349632  @7zNqXP0yrODdRjK يعني هذا محسوب على البشر .. ح...   \n",
       "2  1175450108898565888                    @KanaanRema مبين من كلامه خليجي   \n",
       "3  1175471073770573824         @HAIDER76128900 يسلملي مرورك وروحك الحلوه💐   \n",
       "4  1175496913145217024                 @hmo2406 وين هل الغيبه  اخ محمد 🌸🌺   \n",
       "\n",
       "  dialect  \n",
       "0      IQ  \n",
       "1      IQ  \n",
       "2      IQ  \n",
       "3      IQ  \n",
       "4      IQ  "
      ]
     },
     "execution_count": 16,
     "metadata": {},
     "output_type": "execute_result"
    }
   ],
   "source": [
    "final.head()"
   ]
  },
  {
   "cell_type": "code",
   "execution_count": 14,
   "id": "0f30e31e",
   "metadata": {},
   "outputs": [],
   "source": [
    "final.to_csv('df_with_txt.csv', index=False)"
   ]
  }
 ],
 "metadata": {
  "kernelspec": {
   "display_name": "Python 3 (ipykernel)",
   "language": "python",
   "name": "python3"
  },
  "language_info": {
   "codemirror_mode": {
    "name": "ipython",
    "version": 3
   },
   "file_extension": ".py",
   "mimetype": "text/x-python",
   "name": "python",
   "nbconvert_exporter": "python",
   "pygments_lexer": "ipython3",
   "version": "3.8.12"
  }
 },
 "nbformat": 4,
 "nbformat_minor": 5
}
