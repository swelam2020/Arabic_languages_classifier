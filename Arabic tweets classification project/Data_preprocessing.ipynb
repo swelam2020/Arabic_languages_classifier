{
 "cells": [
  {
   "cell_type": "code",
   "execution_count": 1,
   "id": "ffc83741",
   "metadata": {},
   "outputs": [],
   "source": [
    "import pandas as pd \n",
    "import re\n",
    "import nltk\n",
    "import numpy as np"
   ]
  },
  {
   "cell_type": "code",
   "execution_count": 2,
   "id": "42f0f37f",
   "metadata": {},
   "outputs": [
    {
     "data": {
      "text/html": [
       "<div>\n",
       "<style scoped>\n",
       "    .dataframe tbody tr th:only-of-type {\n",
       "        vertical-align: middle;\n",
       "    }\n",
       "\n",
       "    .dataframe tbody tr th {\n",
       "        vertical-align: top;\n",
       "    }\n",
       "\n",
       "    .dataframe thead th {\n",
       "        text-align: right;\n",
       "    }\n",
       "</style>\n",
       "<table border=\"1\" class=\"dataframe\">\n",
       "  <thead>\n",
       "    <tr style=\"text-align: right;\">\n",
       "      <th></th>\n",
       "      <th>id</th>\n",
       "      <th>txt</th>\n",
       "      <th>dialect</th>\n",
       "    </tr>\n",
       "  </thead>\n",
       "  <tbody>\n",
       "    <tr>\n",
       "      <th>0</th>\n",
       "      <td>1175358310087892992</td>\n",
       "      <td>@Nw8ieJUwaCAAreT لكن بالنهاية .. ينتفض .. يغير .</td>\n",
       "      <td>IQ</td>\n",
       "    </tr>\n",
       "    <tr>\n",
       "      <th>1</th>\n",
       "      <td>1175416117793349632</td>\n",
       "      <td>@7zNqXP0yrODdRjK يعني هذا محسوب على البشر .. ح...</td>\n",
       "      <td>IQ</td>\n",
       "    </tr>\n",
       "    <tr>\n",
       "      <th>2</th>\n",
       "      <td>1175450108898565888</td>\n",
       "      <td>@KanaanRema مبين من كلامه خليجي</td>\n",
       "      <td>IQ</td>\n",
       "    </tr>\n",
       "    <tr>\n",
       "      <th>3</th>\n",
       "      <td>1175471073770573824</td>\n",
       "      <td>@HAIDER76128900 يسلملي مرورك وروحك الحلوه💐</td>\n",
       "      <td>IQ</td>\n",
       "    </tr>\n",
       "    <tr>\n",
       "      <th>4</th>\n",
       "      <td>1175496913145217024</td>\n",
       "      <td>@hmo2406 وين هل الغيبه  اخ محمد 🌸🌺</td>\n",
       "      <td>IQ</td>\n",
       "    </tr>\n",
       "  </tbody>\n",
       "</table>\n",
       "</div>"
      ],
      "text/plain": [
       "                    id                                                txt  \\\n",
       "0  1175358310087892992   @Nw8ieJUwaCAAreT لكن بالنهاية .. ينتفض .. يغير .   \n",
       "1  1175416117793349632  @7zNqXP0yrODdRjK يعني هذا محسوب على البشر .. ح...   \n",
       "2  1175450108898565888                    @KanaanRema مبين من كلامه خليجي   \n",
       "3  1175471073770573824         @HAIDER76128900 يسلملي مرورك وروحك الحلوه💐   \n",
       "4  1175496913145217024                 @hmo2406 وين هل الغيبه  اخ محمد 🌸🌺   \n",
       "\n",
       "  dialect  \n",
       "0      IQ  \n",
       "1      IQ  \n",
       "2      IQ  \n",
       "3      IQ  \n",
       "4      IQ  "
      ]
     },
     "execution_count": 2,
     "metadata": {},
     "output_type": "execute_result"
    }
   ],
   "source": [
    "df = pd.read_csv(\"Arabic tweets classification project/df_with_txt.csv\")\n",
    "df.head()"
   ]
  },
  {
   "cell_type": "code",
   "execution_count": 3,
   "id": "29fbfbb9",
   "metadata": {},
   "outputs": [
    {
     "name": "stdout",
     "output_type": "stream",
     "text": [
      "<class 'pandas.core.frame.DataFrame'>\n",
      "RangeIndex: 458000 entries, 0 to 457999\n",
      "Data columns (total 3 columns):\n",
      " #   Column   Non-Null Count   Dtype \n",
      "---  ------   --------------   ----- \n",
      " 0   id       458000 non-null  int64 \n",
      " 1   txt      458000 non-null  object\n",
      " 2   dialect  458000 non-null  object\n",
      "dtypes: int64(1), object(2)\n",
      "memory usage: 10.5+ MB\n"
     ]
    }
   ],
   "source": [
    "df.info()"
   ]
  },
  {
   "cell_type": "markdown",
   "id": "29502a4e",
   "metadata": {},
   "source": [
    "# # Data pre-processing\n"
   ]
  },
  {
   "cell_type": "code",
   "execution_count": 4,
   "id": "0d37970b",
   "metadata": {},
   "outputs": [
    {
     "data": {
      "text/plain": [
       "'!\"#$%&\\'()*+,-./:;<=>?@[\\\\]^_`{|}~'"
      ]
     },
     "execution_count": 4,
     "metadata": {},
     "output_type": "execute_result"
    }
   ],
   "source": [
    "import string\n",
    "string.punctuation"
   ]
  },
  {
   "cell_type": "code",
   "execution_count": 5,
   "id": "4898cae1",
   "metadata": {},
   "outputs": [
    {
     "data": {
      "text/html": [
       "<div>\n",
       "<style scoped>\n",
       "    .dataframe tbody tr th:only-of-type {\n",
       "        vertical-align: middle;\n",
       "    }\n",
       "\n",
       "    .dataframe tbody tr th {\n",
       "        vertical-align: top;\n",
       "    }\n",
       "\n",
       "    .dataframe thead th {\n",
       "        text-align: right;\n",
       "    }\n",
       "</style>\n",
       "<table border=\"1\" class=\"dataframe\">\n",
       "  <thead>\n",
       "    <tr style=\"text-align: right;\">\n",
       "      <th></th>\n",
       "      <th>id</th>\n",
       "      <th>txt</th>\n",
       "      <th>dialect</th>\n",
       "    </tr>\n",
       "  </thead>\n",
       "  <tbody>\n",
       "    <tr>\n",
       "      <th>0</th>\n",
       "      <td>1175358310087892992</td>\n",
       "      <td>لكن بالنهاية  ينتفض  يغير</td>\n",
       "      <td>IQ</td>\n",
       "    </tr>\n",
       "    <tr>\n",
       "      <th>1</th>\n",
       "      <td>1175416117793349632</td>\n",
       "      <td>يعني هذا محسوب على البشر  حيونه ووحشيه  وتطلب...</td>\n",
       "      <td>IQ</td>\n",
       "    </tr>\n",
       "    <tr>\n",
       "      <th>2</th>\n",
       "      <td>1175450108898565888</td>\n",
       "      <td>مبين من كلامه خليجي</td>\n",
       "      <td>IQ</td>\n",
       "    </tr>\n",
       "    <tr>\n",
       "      <th>3</th>\n",
       "      <td>1175471073770573824</td>\n",
       "      <td>يسلملي مرورك وروحك الحلوه</td>\n",
       "      <td>IQ</td>\n",
       "    </tr>\n",
       "    <tr>\n",
       "      <th>4</th>\n",
       "      <td>1175496913145217024</td>\n",
       "      <td>وين هل الغيبه  اخ محمد</td>\n",
       "      <td>IQ</td>\n",
       "    </tr>\n",
       "  </tbody>\n",
       "</table>\n",
       "</div>"
      ],
      "text/plain": [
       "                    id                                                txt  \\\n",
       "0  1175358310087892992                         لكن بالنهاية  ينتفض  يغير    \n",
       "1  1175416117793349632   يعني هذا محسوب على البشر  حيونه ووحشيه  وتطلب...   \n",
       "2  1175450108898565888                                مبين من كلامه خليجي   \n",
       "3  1175471073770573824                          يسلملي مرورك وروحك الحلوه   \n",
       "4  1175496913145217024                            وين هل الغيبه  اخ محمد    \n",
       "\n",
       "  dialect  \n",
       "0      IQ  \n",
       "1      IQ  \n",
       "2      IQ  \n",
       "3      IQ  \n",
       "4      IQ  "
      ]
     },
     "execution_count": 5,
     "metadata": {},
     "output_type": "execute_result"
    }
   ],
   "source": [
    "def remove_en_emj(text):\n",
    "    en_free= re.sub('([@A-Za-z0-9_ـــــــــــــ]+)|[^\\w\\s]|#|http\\S+', '', text)\n",
    "    return en_free\n",
    "\n",
    "df['txt']= df['txt'].apply(lambda x:remove_en_emj(x))\n",
    "df.head()"
   ]
  },
  {
   "cell_type": "code",
   "execution_count": 6,
   "id": "ddb48a9b",
   "metadata": {},
   "outputs": [],
   "source": [
    "def noramlize(Tweet):\n",
    "    Tweet = re.sub(r\"[إأٱآا]\", \"ا\", Tweet)\n",
    "    Tweet = re.sub(r\"ى\", \"ي\", Tweet)\n",
    "    Tweet = re.sub(r\"ؤ\", \"ء\", Tweet)\n",
    "    Tweet = re.sub(r\"ئ\", \"ء\", Tweet)\n",
    "    Tweet = re.sub(r'[^ا-ي ]', \"\", Tweet)\n",
    "\n",
    "    noise = re.compile(\"\"\" ّ    | # Tashdid\n",
    "                         َ    | # Fatha\n",
    "                         ً    | # Tanwin Fath\n",
    "                         ُ    | # Damma\n",
    "                         ٌ    | # Tanwin Damm\n",
    "                         ِ    | # Kasra\n",
    "                         ٍ    | # Tanwin Kasr\n",
    "                         ْ    | # Sukun\n",
    "                         ـ     # Tatwil/Kashida\n",
    "                     \"\"\", re.VERBOSE)\n",
    "    Tweet = re.sub(noise, '', Tweet)\n",
    "    return Tweet\n",
    "\n",
    "\n",
    "df['txt']= df['txt'].apply(lambda x:noramlize(x))\n"
   ]
  },
  {
   "cell_type": "code",
   "execution_count": 7,
   "id": "5a825854",
   "metadata": {},
   "outputs": [],
   "source": [
    "def stopWordRmove(text):\n",
    "    ar_stop_list = open(\"list.txt\", encoding=\"utf-8\") \n",
    "    stop_words = ar_stop_list.read().split('\\n')   \n",
    "    needed_words = []\n",
    "    words = nltk.word_tokenize(text)\n",
    "    for w in words:\n",
    "        if w not in (stop_words):\n",
    "            needed_words.append(w)\n",
    "    filtered_sentence = \" \".join(needed_words)\n",
    "    return filtered_sentence\n",
    "\n",
    "\n",
    "df['txt']= df['txt'].apply(lambda x:stopWordRmove(x))\n"
   ]
  },
  {
   "cell_type": "code",
   "execution_count": 9,
   "id": "63661a5c",
   "metadata": {},
   "outputs": [],
   "source": [
    "df.to_csv('Arabic tweets classification project/clean_data.csv', index=False)"
   ]
  }
 ],
 "metadata": {
  "kernelspec": {
   "display_name": "Python 3 (ipykernel)",
   "language": "python",
   "name": "python3"
  },
  "language_info": {
   "codemirror_mode": {
    "name": "ipython",
    "version": 3
   },
   "file_extension": ".py",
   "mimetype": "text/x-python",
   "name": "python",
   "nbconvert_exporter": "python",
   "pygments_lexer": "ipython3",
   "version": "3.8.12"
  }
 },
 "nbformat": 4,
 "nbformat_minor": 5
}
